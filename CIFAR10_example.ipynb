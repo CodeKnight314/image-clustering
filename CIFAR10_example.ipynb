{
 "cells": [
  {
   "cell_type": "code",
   "execution_count": null,
   "metadata": {},
   "outputs": [],
   "source": [
    "import torchvision.transforms as transforms\n",
    "from torch.utils.data import DataLoader\n",
    "from torchvision.datasets import CIFAR10\n",
    "import numpy as np\n",
    "import matplotlib.pyplot as plt\n",
    "from sklearn.decomposition import PCA\n",
    "import torch\n",
    "import torchvision.models as models\n",
    "import numpy as np\n",
    "from sklearn.cluster import KMeans"
   ]
  },
  {
   "cell_type": "code",
   "execution_count": null,
   "metadata": {},
   "outputs": [],
   "source": [
    "class Clustering:\n",
    "    def __init__(self, n_cluster, device=\"cuda\"):\n",
    "        self.device = torch.device(device) \n",
    "        self.model = models.resnet18(weights=\"DEFAULT\").to(self.device)\n",
    "        self.model.eval() \n",
    "        self.model = torch.nn.Sequential(*list(self.model.children())[:-1])\n",
    "        \n",
    "        self.kmeans = KMeans(n_clusters=n_cluster)\n",
    "        \n",
    "        self.n_cluster = n_cluster\n",
    "        \n",
    "    def extract_features(self, dataloader): \n",
    "        features = []\n",
    "        with torch.no_grad(): \n",
    "            for images, _ in dataloader: \n",
    "                images = images.to(self.device)\n",
    "                output = self.model(images)\n",
    "                output = output.view(output.size(0), -1)\n",
    "                features.append(output.cpu().numpy())\n",
    "        return np.vstack(features)\n",
    "    \n",
    "    def fit(self, dataloader): \n",
    "        features = self.extract_features(dataloader)\n",
    "        self.kmeans.fit(features)\n",
    "        labels = self.kmeans.labels_\n",
    "        return labels, features"
   ]
  },
  {
   "cell_type": "code",
   "execution_count": null,
   "metadata": {},
   "outputs": [],
   "source": [
    "transform = transforms.Compose([\n",
    "    transforms.Resize((224, 224)),\n",
    "    transforms.ToTensor(),\n",
    "    transforms.Normalize([0.485, 0.456, 0.406], [0.229, 0.224, 0.225]),\n",
    "])\n",
    "\n",
    "dataset = CIFAR10(root=\"./data\", train=True, download=True, transform=transform)\n",
    "dataloader = DataLoader(dataset, batch_size=32, shuffle=False)"
   ]
  },
  {
   "cell_type": "code",
   "execution_count": null,
   "metadata": {},
   "outputs": [],
   "source": [
    "clustering = Clustering(n_cluster=10, device=\"cuda\")"
   ]
  },
  {
   "cell_type": "code",
   "execution_count": null,
   "metadata": {},
   "outputs": [],
   "source": [
    "labels, features = clustering.fit(dataloader)"
   ]
  },
  {
   "cell_type": "code",
   "execution_count": null,
   "metadata": {},
   "outputs": [],
   "source": [
    "pca = PCA(n_components=2)\n",
    "reduced_features = pca.fit_transform(features)\n",
    "\n",
    "plt.figure(figsize=(10, 8))\n",
    "for cluster in range(clustering.n_cluster):\n",
    "    cluster_indices = np.where(labels == cluster)\n",
    "    plt.scatter(reduced_features[cluster_indices, 0], reduced_features[cluster_indices, 1], label=f'Cluster {cluster}')\n",
    "plt.legend()\n",
    "plt.title(\"Image Clustering using K-Means\")\n",
    "plt.xlabel(\"PCA Component 1\")\n",
    "plt.ylabel(\"PCA Component 2\")\n",
    "plt.show()"
   ]
  }
 ],
 "metadata": {
  "kernelspec": {
   "display_name": "Python 3",
   "language": "python",
   "name": "python3"
  },
  "language_info": {
   "name": "python",
   "version": "3.12.0"
  }
 },
 "nbformat": 4,
 "nbformat_minor": 2
}
